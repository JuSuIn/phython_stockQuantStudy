{
 "cells": [
  {
   "cell_type": "code",
   "execution_count": 4,
   "id": "620d37df-5cdd-4d3a-8e91-977f36e8dfd4",
   "metadata": {},
   "outputs": [],
   "source": [
    "import bs4"
   ]
  },
  {
   "cell_type": "code",
   "execution_count": 5,
   "id": "5437314d-66d3-4445-9f59-ce635c08510b",
   "metadata": {},
   "outputs": [],
   "source": [
    "import requests"
   ]
  },
  {
   "cell_type": "code",
   "execution_count": 6,
   "id": "99edb1ed-a4f9-460d-b03b-93a9330460dd",
   "metadata": {},
   "outputs": [],
   "source": [
    "# 주식 시세 자료 가져오기"
   ]
  },
  {
   "cell_type": "code",
   "execution_count": 7,
   "id": "e498d782-742e-45c4-a3c3-691cf9019062",
   "metadata": {},
   "outputs": [],
   "source": [
    "#1. 네이버 파이넨스 일별 시서 가져오기 "
   ]
  },
  {
   "cell_type": "code",
   "execution_count": 8,
   "id": "4f262379-4f87-4acf-8c5e-2047032590b0",
   "metadata": {},
   "outputs": [],
   "source": [
    "res = requests.get(\"https://finance.naver.com/item/sise_day.naver?code=005930&page=4\")"
   ]
  },
  {
   "cell_type": "code",
   "execution_count": 9,
   "id": "4faa356b-711e-449e-975e-670152510615",
   "metadata": {},
   "outputs": [
    {
     "data": {
      "text/plain": [
       "200"
      ]
     },
     "execution_count": 9,
     "metadata": {},
     "output_type": "execute_result"
    }
   ],
   "source": [
    "res.status_code"
   ]
  },
  {
   "cell_type": "code",
   "execution_count": 10,
   "id": "060af746-0f90-4bd4-9191-ed829c684325",
   "metadata": {},
   "outputs": [
    {
     "data": {
      "text/plain": [
       "'\\n<!DOCTYPE HTML PUBLIC \"-//W3C//DTD HTML 4.01 Transitional//EN\" \"http://www.w3.org/TR/html4/loose.dtd\">\\n<html>\\n<head>\\n<meta http-equiv=\"Content-Type\" content=\"text/html; charset=euc-kr\">\\n<title>네이버 :: 세상의 모든 지식, 네이버</title>\\n\\n<style type=\"text/css\">\\n.error_content * {margin:0;padding:0;}\\n.error_content img{border:none;}\\n.error_content em {font-style:normal;}\\n.error_content {width:410px; margin:80px auto 0; padding:57px 0 0 0; font-size:12px; font-family:\"나눔고딕\", \"NanumGothic\", \"돋움\", Dotum, AppleGothic, Sans-serif; text-align:left; line-height:14px; background:url(https://ssl.pstatic.net/static/common/error/090610/bg_thumb.gif) no-repeat center top; white-space:nowrap;}\\n.error_content p{margin:0;}\\n.error_content .error_desc {margin-bottom:21px; overflow:hidden; text-align:center;}\\n.error_content .error_desc2 {margin-bottom:11px; padding-bottom:7px; color:#888; line-height:18px; border-bottom:1px solid #eee;}\\n.error_content .error_desc3 {clear:both; color:#888;}\\n.error_content .error_desc3 a {color:#004790; text-decoration:underline;}\\n.error_content .error_list_type {clear:both; float:left; width:410px; _width:428px; margin:0 0 18px 0; *margin:0 0 7px 0; padding-bottom:13px; font-size:13px; color:#000; line-height:18px; border-bottom:1px solid #eee;}\\n.error_content .error_list_type dt {float:left; width:60px; _width /**/:70px; padding-left:10px; background:url(https://ssl.pstatic.net/static/common/error/090610/bg_dot.gif) no-repeat 2px 8px;}\\n.error_content .error_list_type dd {float:left; width:336px; _width /**/:340px; padding:0 0 0 4px;}\\n.error_content .error_list_type dd span {color:#339900; letter-spacing:0;}\\n.error_content .error_list_type dd a{color:#339900;}\\n.error_content p.btn{margin:29px 0 100px; text-align:center;}\\n</style>\\n</head>\\n<!-- ERROR -->\\n<body>\\n<div class=\"error_content\">\\n\\t<p class=\"error_desc\"><img src=\"https://ssl.pstatic.net/static/common/error/090610/txt_desc5.gif\" width=\"319\" height=\"30\" alt=\"페이지를 찾을 수 없습니다.\"></p>\\n\\t<p class=\"error_desc2\">방문하시려는 페이지의 주소가 잘못 입력되었거나,<br>\\n\\t\\t페이지의 주소가 변경 혹은 삭제되어 요청하신 페이지를 찾을 수 없습니다.<br>\\n\\t\\t입력하신 주소가 정확한지 다시 한번 확인해 주시기 바랍니다.\\n\\t</p>\\n\\t<p class=\"error_desc3\">관련 문의사항은 <a href=\"https://help.naver.com/\" target=\"_blank\">고객센터</a>에 알려주시면 친절히 안내해드리겠습니다. 감사합니다.</p>\\n\\t<p class=\"btn\">\\n\\t\\t<a href=\"javascript:history.back()\"><img src=\"https://ssl.pstatic.net/static/common/error/090610/btn_prevpage.gif\" width=\"115\" height=\"35\" alt=\"이전 페이지로\"></a>\\n\\t\\t<a href=\"https://finance.naver.com\"><img src=\"https://ssl.pstatic.net/static/nfinance/btn_home.gif\" width=\"115\" height=\"35\" alt=\"증권홈으로\"></a>\\n\\t</p>\\n</div>\\n</body>\\n</html>\\n'"
      ]
     },
     "execution_count": 10,
     "metadata": {},
     "output_type": "execute_result"
    }
   ],
   "source": [
    "res.text"
   ]
  },
  {
   "cell_type": "code",
   "execution_count": 11,
   "id": "48bf6134-7f9b-4d45-a190-1e5a4fa2f55f",
   "metadata": {},
   "outputs": [
    {
     "ename": "SyntaxError",
     "evalue": "leading zeros in decimal integer literals are not permitted; use an 0o prefix for octal integers (<ipython-input-11-9238cb4023b3>, line 2)",
     "output_type": "error",
     "traceback": [
      "\u001b[0;36m  File \u001b[0;32m\"<ipython-input-11-9238cb4023b3>\"\u001b[0;36m, line \u001b[0;32m2\u001b[0m\n\u001b[0;31m    https://finance.naver.com/item/sise_day.naver?code=005930\u001b[0m\n\u001b[0m                                                       ^\u001b[0m\n\u001b[0;31mSyntaxError\u001b[0m\u001b[0;31m:\u001b[0m leading zeros in decimal integer literals are not permitted; use an 0o prefix for octal integers\n"
     ]
    }
   ],
   "source": [
    "Referer:\n",
    "https://finance.naver.com/item/sise_day.naver?code=005930\n",
    "Sec-Ch-Ua:\n",
    "\"Not.A/Brand\";v=\"8\", \"Chromium\";v=\"114\", \"Google Chrome\";v=\"114\"\n",
    "Sec-Ch-Ua-Mobile:\n",
    "?0\n",
    "Sec-Ch-Ua-Platform:\n",
    "\"macOS\"\n",
    "Sec-Fetch-Dest:\n",
    "iframe\n",
    "Sec-Fetch-Mode:\n",
    "navigate\n",
    "Sec-Fetch-Site:\n",
    "same-origin\n",
    "Sec-Fetch-User:\n",
    "?1\n",
    "Upgrade-Insecure-Requests:\n",
    "1\n",
    "User-Agent:\n",
    "Mozilla/5.0 (Macintosh; Intel Mac OS X 10_15_7) AppleWebKit/537.36 (KHTML, like Gecko) Chrome/114.0.0.0 Safari/537.36"
   ]
  },
  {
   "cell_type": "code",
   "execution_count": 12,
   "id": "7634b684-f10a-40b9-a1d0-b3d0b5ecb647",
   "metadata": {},
   "outputs": [
    {
     "ename": "SyntaxError",
     "evalue": "leading zeros in decimal integer literals are not permitted; use an 0o prefix for octal integers (<ipython-input-12-0015535f2f66>, line 2)",
     "output_type": "error",
     "traceback": [
      "\u001b[0;36m  File \u001b[0;32m\"<ipython-input-12-0015535f2f66>\"\u001b[0;36m, line \u001b[0;32m2\u001b[0m\n\u001b[0;31m    https://finance.naver.com/item/sise_day.naver?code=005930\u001b[0m\n\u001b[0m                                                       ^\u001b[0m\n\u001b[0;31mSyntaxError\u001b[0m\u001b[0;31m:\u001b[0m leading zeros in decimal integer literals are not permitted; use an 0o prefix for octal integers\n"
     ]
    }
   ],
   "source": [
    "Referer:\n",
    "https://finance.naver.com/item/sise_day.naver?code=005930\n",
    "Upgrade-Insecure-Requests:\n",
    "1\n",
    "User-Agent:\n",
    "Mozilla/5.0 (Macintosh; Intel Mac OS X 10_15_7) AppleWebKit/537.36 (KHTML, like Gecko) Chrome/114.0.0.0 Safari/537.36"
   ]
  },
  {
   "cell_type": "code",
   "execution_count": 13,
   "id": "e9cd07db-5bd4-4bd0-96d4-aceacf1fb762",
   "metadata": {},
   "outputs": [],
   "source": [
    "my_headers = {\n",
    "\"Referer\" : \"https://finance.naver.com/item/sise_day.naver?code=005930\",\n",
    "\"Upgrade-Insecure-Requests\" : \"1\",\n",
    "\"User-Agent\" : \"Mozilla/5.0 (Macintosh; Intel Mac OS X 10_15_7) AppleWebKit/537.36 (KHTML, like Gecko) Chrome/114.0.0.0 Safari/537.36\"    \n",
    "}"
   ]
  },
  {
   "cell_type": "code",
   "execution_count": 14,
   "id": "59f9e0f1-cb46-4067-9993-0c927e5d1800",
   "metadata": {},
   "outputs": [],
   "source": [
    "res= requests.get(\n",
    "    url=\"https://finance.naver.com/item/sise_day.naver?code=005930&page=4\",\n",
    "    headers=my_headers\n",
    ")"
   ]
  },
  {
   "cell_type": "code",
   "execution_count": 15,
   "id": "1bf2979c-0be4-432c-a5b9-f8d3adc6d9e5",
   "metadata": {},
   "outputs": [
    {
     "data": {
      "text/plain": [
       "'\\n<html lang=\"ko\">\\n<head>\\n<meta http-equiv=\"Content-Type\" content=\"text/html; charset=euc-kr\">\\n<title>네이버 증권</title>\\n\\n<link rel=\"stylesheet\" type=\"text/css\" href=\"https://ssl.pstatic.net/imgstock/static.pc/20230713201205/css/newstock.css\">\\n<link rel=\"stylesheet\" type=\"text/css\" href=\"https://ssl.pstatic.net/imgstock/static.pc/20230713201205/css/common.css\">\\n<link rel=\"stylesheet\" type=\"text/css\" href=\"https://ssl.pstatic.net/imgstock/static.pc/20230713201205/css/layout.css\">\\n<link rel=\"stylesheet\" type=\"text/css\" href=\"https://ssl.pstatic.net/imgstock/static.pc/20230713201205/css/main.css\">\\n<link rel=\"stylesheet\" type=\"text/css\" href=\"https://ssl.pstatic.net/imgstock/static.pc/20230713201205/css/newstock2.css\">\\n<link rel=\"stylesheet\" type=\"text/css\" href=\"https://ssl.pstatic.net/imgstock/static.pc/20230713201205/css/newstock3.css\">\\n<link rel=\"stylesheet\" type=\"text/css\" href=\"https://ssl.pstatic.net/imgstock/static.pc/20230713201205/css/world.css\">\\n</head>\\n<body>\\n<script language=\"JavaScript\">\\nfunction mouseOver(obj){\\n  obj.style.backgroundColor=\"#f6f4e5\";\\n}\\nfunction mouseOut(obj){\\n  obj.style.backgroundColor=\"#ffffff\";\\n}\\n</script>\\n\\t\\t\\t\\t<h4 class=\"tlline2\"><strong><span class=\"red03\">일별</span>시세</strong></h4>\\t\\t\\t\\n\\t\\t\\t\\t<table cellspacing=\"0\" class=\"type2\">\\n\\t\\t\\t\\t<tr>\\n\\t\\t\\t\\t<th>날짜</th>\\n\\t\\t\\t\\t<th>종가</th>\\n\\t\\t\\t\\t<th>전일비</th>\\n\\t\\t\\t\\t<th>시가</th>\\n\\t\\t\\t\\t<th>고가</th>\\n\\t\\t\\t\\t<th>저가</th>\\n\\t\\t\\t\\t<th>거래량</th>\\n\\t\\t\\t\\t</tr>\\n\\t\\t\\t\\t<tr>\\n\\t\\t\\t\\t<td colspan=\"7\" height=\"8\"></td>\\n\\t\\t\\t\\t</tr>\\n\\n\\n\\t\\n\\t\\n\\t\\n\\t\\t\\n\\t\\t\\t\\n\\t\\t\\t\\t\\n\\t\\t\\t\\t\\t<tr onMouseOver=\"mouseOver(this)\" onMouseOut=\"mouseOut(this)\">\\n\\t\\t\\t\\t\\t<td align=\"center\"><span class=\"tah p10 gray03\">2023.06.01</span></td>\\n\\t\\t\\t\\t\\t<td class=\"num\"><span class=\"tah p11\">70,900</span></td>\\n\\t\\t\\t\\t\\t<td class=\"num\">\\n\\t\\t\\t\\t<img src=\"https://ssl.pstatic.net/imgstock/images/images4/ico_down.gif\" width=\"7\" height=\"6\" style=\"margin-right:4px;\" alt=\"하락\"><span class=\"tah p11 nv01\">\\n\\t\\t\\t\\t500\\n\\t\\t\\t\\t</span>\\n\\t\\t\\t</td>\\n\\t\\t\\t\\t\\t<td class=\"num\"><span class=\"tah p11\">70,900</span></td>\\n\\t\\t\\t\\t\\t<td class=\"num\"><span class=\"tah p11\">71,600</span></td>\\n\\t\\t\\t\\t\\t<td class=\"num\"><span class=\"tah p11\">70,600</span></td>\\n\\t\\t\\t\\t\\t<td class=\"num\"><span class=\"tah p11\">14,669,296</span></td>\\n\\t\\t\\t\\t\\t</tr>\\n\\t\\t\\t\\t\\n\\t\\t\\t\\t\\n\\t\\t\\t\\n\\t\\t\\t\\n\\t\\t\\t\\n\\t\\t\\t\\n\\t\\t\\t\\n\\t\\n\\t\\t\\n\\t\\t\\t\\n\\t\\t\\t\\t\\n\\t\\t\\t\\t\\t<tr onMouseOver=\"mouseOver(this)\" onMouseOut=\"mouseOut(this)\">\\n\\t\\t\\t\\t\\t<td align=\"center\"><span class=\"tah p10 gray03\">2023.05.31</span></td>\\n\\t\\t\\t\\t\\t<td class=\"num\"><span class=\"tah p11\">71,400</span></td>\\n\\t\\t\\t\\t\\t<td class=\"num\">\\n\\t\\t\\t\\t<img src=\"https://ssl.pstatic.net/imgstock/images/images4/ico_down.gif\" width=\"7\" height=\"6\" style=\"margin-right:4px;\" alt=\"하락\"><span class=\"tah p11 nv01\">\\n\\t\\t\\t\\t900\\n\\t\\t\\t\\t</span>\\n\\t\\t\\t</td>\\n\\t\\t\\t\\t\\t<td class=\"num\"><span class=\"tah p11\">72,400</span></td>\\n\\t\\t\\t\\t\\t<td class=\"num\"><span class=\"tah p11\">72,500</span></td>\\n\\t\\t\\t\\t\\t<td class=\"num\"><span class=\"tah p11\">71,000</span></td>\\n\\t\\t\\t\\t\\t<td class=\"num\"><span class=\"tah p11\">25,666,087</span></td>\\n\\t\\t\\t\\t\\t</tr>\\n\\t\\t\\t\\t\\n\\t\\t\\t\\t\\n\\t\\t\\t\\n\\t\\t\\t\\n\\t\\t\\t\\n\\t\\t\\t\\n\\t\\t\\t\\n\\t\\n\\t\\t\\n\\t\\t\\t\\n\\t\\t\\t\\t\\n\\t\\t\\t\\t\\t<tr onMouseOver=\"mouseOver(this)\" onMouseOut=\"mouseOut(this)\">\\n\\t\\t\\t\\t\\t<td align=\"center\"><span class=\"tah p10 gray03\">2023.05.30</span></td>\\n\\t\\t\\t\\t\\t<td class=\"num\"><span class=\"tah p11\">72,300</span></td>\\n\\t\\t\\t\\t\\t<td class=\"num\">\\n\\t\\t\\t\\t<img src=\"https://ssl.pstatic.net/imgstock/images/images4/ico_up.gif\" width=\"7\" height=\"6\" style=\"margin-right:4px;\" alt=\"상승\"><span class=\"tah p11 red02\">\\n\\t\\t\\t\\t2,000\\n\\t\\t\\t\\t</span>\\n\\t\\t\\t</td>\\n\\t\\t\\t\\t\\t<td class=\"num\"><span class=\"tah p11\">71,300</span></td>\\n\\t\\t\\t\\t\\t<td class=\"num\"><span class=\"tah p11\">72,300</span></td>\\n\\t\\t\\t\\t\\t<td class=\"num\"><span class=\"tah p11\">71,200</span></td>\\n\\t\\t\\t\\t\\t<td class=\"num\"><span class=\"tah p11\">27,476,897</span></td>\\n\\t\\t\\t\\t\\t</tr>\\n\\t\\t\\t\\t\\n\\t\\t\\t\\t\\n\\t\\t\\t\\n\\t\\t\\t\\n\\t\\t\\t\\n\\t\\t\\t\\n\\t\\t\\t\\n\\t\\n\\t\\t\\n\\t\\t\\t\\n\\t\\t\\t\\t\\n\\t\\t\\t\\t\\t<tr onMouseOver=\"mouseOver(this)\" onMouseOut=\"mouseOut(this)\">\\n\\t\\t\\t\\t\\t<td align=\"center\"><span class=\"tah p10 gray03\">2023.05.26</span></td>\\n\\t\\t\\t\\t\\t<td class=\"num\"><span class=\"tah p11\">70,300</span></td>\\n\\t\\t\\t\\t\\t<td class=\"num\">\\n\\t\\t\\t\\t<img src=\"https://ssl.pstatic.net/imgstock/images/images4/ico_up.gif\" width=\"7\" height=\"6\" style=\"margin-right:4px;\" alt=\"상승\"><span class=\"tah p11 red02\">\\n\\t\\t\\t\\t1,500\\n\\t\\t\\t\\t</span>\\n\\t\\t\\t</td>\\n\\t\\t\\t\\t\\t<td class=\"num\"><span class=\"tah p11\">69,800</span></td>\\n\\t\\t\\t\\t\\t<td class=\"num\"><span class=\"tah p11\">70,400</span></td>\\n\\t\\t\\t\\t\\t<td class=\"num\"><span class=\"tah p11\">69,500</span></td>\\n\\t\\t\\t\\t\\t<td class=\"num\"><span class=\"tah p11\">19,549,511</span></td>\\n\\t\\t\\t\\t\\t</tr>\\n\\t\\t\\t\\t\\n\\t\\t\\t\\t\\n\\t\\t\\t\\n\\t\\t\\t\\n\\t\\t\\t\\n\\t\\t\\t\\n\\t\\t\\t\\n\\t\\n\\t\\t\\n\\t\\t\\t\\n\\t\\t\\t\\t\\n\\t\\t\\t\\t\\t<tr onMouseOver=\"mouseOver(this)\" onMouseOut=\"mouseOut(this)\">\\n\\t\\t\\t\\t\\t<td align=\"center\"><span class=\"tah p10 gray03\">2023.05.25</span></td>\\n\\t\\t\\t\\t\\t<td class=\"num\"><span class=\"tah p11\">68,800</span></td>\\n\\t\\t\\t\\t\\t<td class=\"num\">\\n\\t\\t\\t\\t<img src=\"https://ssl.pstatic.net/imgstock/images/images4/ico_up.gif\" width=\"7\" height=\"6\" style=\"margin-right:4px;\" alt=\"상승\"><span class=\"tah p11 red02\">\\n\\t\\t\\t\\t300\\n\\t\\t\\t\\t</span>\\n\\t\\t\\t</td>\\n\\t\\t\\t\\t\\t<td class=\"num\"><span class=\"tah p11\">69,900</span></td>\\n\\t\\t\\t\\t\\t<td class=\"num\"><span class=\"tah p11\">70,000</span></td>\\n\\t\\t\\t\\t\\t<td class=\"num\"><span class=\"tah p11\">68,700</span></td>\\n\\t\\t\\t\\t\\t<td class=\"num\"><span class=\"tah p11\">14,231,160</span></td>\\n\\t\\t\\t\\t\\t</tr>\\n\\t\\t\\t\\t\\n\\t\\t\\t\\t\\n\\t\\t\\t\\n\\t\\t\\t\\n\\t\\t\\t\\n\\t\\t\\t\\n\\t\\t\\t\\t<tr>\\n\\t\\t\\t\\t<td colspan=\"7\" height=\"8\"></td>\\n\\t\\t\\t\\t</tr>\\n\\t\\t\\t\\t<tr>\\n\\t\\t\\t\\t<td colspan=\"7\" height=\"1\" bgcolor=\"#e1e1e1\"></td>\\n\\t\\t\\t\\t</tr>\\n\\t\\t\\t\\t<tr>\\n\\t\\t\\t\\t<td colspan=\"7\" height=\"8\"></td>\\n\\t\\t\\t\\t</tr>\\n\\t\\t\\t\\n\\t\\t\\t\\n\\t\\n\\t\\t\\n\\t\\t\\t\\n\\t\\t\\t\\t\\n\\t\\t\\t\\t\\t<tr onMouseOver=\"mouseOver(this)\" onMouseOut=\"mouseOut(this)\">\\n\\t\\t\\t\\t\\t<td align=\"center\"><span class=\"tah p10 gray03\">2023.05.24</span></td>\\n\\t\\t\\t\\t\\t<td class=\"num\"><span class=\"tah p11\">68,500</span></td>\\n\\t\\t\\t\\t\\t<td class=\"num\">\\n\\t\\t\\t\\t<img src=\"https://ssl.pstatic.net/imgstock/images/images4/ico_up.gif\" width=\"7\" height=\"6\" style=\"margin-right:4px;\" alt=\"상승\"><span class=\"tah p11 red02\">\\n\\t\\t\\t\\t100\\n\\t\\t\\t\\t</span>\\n\\t\\t\\t</td>\\n\\t\\t\\t\\t\\t<td class=\"num\"><span class=\"tah p11\">68,100</span></td>\\n\\t\\t\\t\\t\\t<td class=\"num\"><span class=\"tah p11\">68,700</span></td>\\n\\t\\t\\t\\t\\t<td class=\"num\"><span class=\"tah p11\">68,000</span></td>\\n\\t\\t\\t\\t\\t<td class=\"num\"><span class=\"tah p11\">8,192,896</span></td>\\n\\t\\t\\t\\t\\t</tr>\\n\\t\\t\\t\\t\\n\\t\\t\\t\\t\\n\\t\\t\\t\\n\\t\\t\\t\\n\\t\\t\\t\\n\\t\\t\\t\\n\\t\\t\\t\\n\\t\\n\\t\\t\\n\\t\\t\\t\\n\\t\\t\\t\\t\\n\\t\\t\\t\\t\\t<tr onMouseOver=\"mouseOver(this)\" onMouseOut=\"mouseOut(this)\">\\n\\t\\t\\t\\t\\t<td align=\"center\"><span class=\"tah p10 gray03\">2023.05.23</span></td>\\n\\t\\t\\t\\t\\t<td class=\"num\"><span class=\"tah p11\">68,400</span></td>\\n\\t\\t\\t\\t\\t<td class=\"num\">\\n\\t\\t\\t\\t<img src=\"https://ssl.pstatic.net/imgstock/images/images4/ico_down.gif\" width=\"7\" height=\"6\" style=\"margin-right:4px;\" alt=\"하락\"><span class=\"tah p11 nv01\">\\n\\t\\t\\t\\t100\\n\\t\\t\\t\\t</span>\\n\\t\\t\\t</td>\\n\\t\\t\\t\\t\\t<td class=\"num\"><span class=\"tah p11\">68,500</span></td>\\n\\t\\t\\t\\t\\t<td class=\"num\"><span class=\"tah p11\">68,700</span></td>\\n\\t\\t\\t\\t\\t<td class=\"num\"><span class=\"tah p11\">68,100</span></td>\\n\\t\\t\\t\\t\\t<td class=\"num\"><span class=\"tah p11\">8,561,643</span></td>\\n\\t\\t\\t\\t\\t</tr>\\n\\t\\t\\t\\t\\n\\t\\t\\t\\t\\n\\t\\t\\t\\n\\t\\t\\t\\n\\t\\t\\t\\n\\t\\t\\t\\n\\t\\t\\t\\n\\t\\n\\t\\t\\n\\t\\t\\t\\n\\t\\t\\t\\t\\n\\t\\t\\t\\t\\t<tr onMouseOver=\"mouseOver(this)\" onMouseOut=\"mouseOut(this)\">\\n\\t\\t\\t\\t\\t<td align=\"center\"><span class=\"tah p10 gray03\">2023.05.22</span></td>\\n\\t\\t\\t\\t\\t<td class=\"num\"><span class=\"tah p11\">68,500</span></td>\\n\\t\\t\\t\\t\\t<td class=\"num\">\\n\\t\\t\\t\\t<img src=\"https://ssl.pstatic.net/imgstock/images/images4/ico_up.gif\" width=\"7\" height=\"6\" style=\"margin-right:4px;\" alt=\"상승\"><span class=\"tah p11 red02\">\\n\\t\\t\\t\\t100\\n\\t\\t\\t\\t</span>\\n\\t\\t\\t</td>\\n\\t\\t\\t\\t\\t<td class=\"num\"><span class=\"tah p11\">68,400</span></td>\\n\\t\\t\\t\\t\\t<td class=\"num\"><span class=\"tah p11\">69,000</span></td>\\n\\t\\t\\t\\t\\t<td class=\"num\"><span class=\"tah p11\">68,000</span></td>\\n\\t\\t\\t\\t\\t<td class=\"num\"><span class=\"tah p11\">14,470,308</span></td>\\n\\t\\t\\t\\t\\t</tr>\\n\\t\\t\\t\\t\\n\\t\\t\\t\\t\\n\\t\\t\\t\\n\\t\\t\\t\\n\\t\\t\\t\\n\\t\\t\\t\\n\\t\\t\\t\\n\\t\\n\\t\\t\\n\\t\\t\\t\\n\\t\\t\\t\\t\\n\\t\\t\\t\\t\\t<tr onMouseOver=\"mouseOver(this)\" onMouseOut=\"mouseOut(this)\">\\n\\t\\t\\t\\t\\t<td align=\"center\"><span class=\"tah p10 gray03\">2023.05.19</span></td>\\n\\t\\t\\t\\t\\t<td class=\"num\"><span class=\"tah p11\">68,400</span></td>\\n\\t\\t\\t\\t\\t<td class=\"num\">\\n\\t\\t\\t\\t<img src=\"https://ssl.pstatic.net/imgstock/images/images4/ico_up.gif\" width=\"7\" height=\"6\" style=\"margin-right:4px;\" alt=\"상승\"><span class=\"tah p11 red02\">\\n\\t\\t\\t\\t2,200\\n\\t\\t\\t\\t</span>\\n\\t\\t\\t</td>\\n\\t\\t\\t\\t\\t<td class=\"num\"><span class=\"tah p11\">67,800</span></td>\\n\\t\\t\\t\\t\\t<td class=\"num\"><span class=\"tah p11\">68,400</span></td>\\n\\t\\t\\t\\t\\t<td class=\"num\"><span class=\"tah p11\">67,500</span></td>\\n\\t\\t\\t\\t\\t<td class=\"num\"><span class=\"tah p11\">20,349,345</span></td>\\n\\t\\t\\t\\t\\t</tr>\\n\\t\\t\\t\\t\\n\\t\\t\\t\\t\\n\\t\\t\\t\\n\\t\\t\\t\\n\\t\\t\\t\\n\\t\\t\\t\\n\\t\\t\\t\\n\\t\\n\\t\\t\\n\\t\\t\\t\\n\\t\\t\\t\\t\\n\\t\\t\\t\\t\\t<tr onMouseOver=\"mouseOver(this)\" onMouseOut=\"mouseOut(this)\">\\n\\t\\t\\t\\t\\t<td align=\"center\"><span class=\"tah p10 gray03\">2023.05.18</span></td>\\n\\t\\t\\t\\t\\t<td class=\"num\"><span class=\"tah p11\">66,200</span></td>\\n\\t\\t\\t\\t\\t<td class=\"num\">\\n\\t\\t\\t\\t<img src=\"https://ssl.pstatic.net/imgstock/images/images4/ico_up.gif\" width=\"7\" height=\"6\" style=\"margin-right:4px;\" alt=\"상승\"><span class=\"tah p11 red02\">\\n\\t\\t\\t\\t1,200\\n\\t\\t\\t\\t</span>\\n\\t\\t\\t</td>\\n\\t\\t\\t\\t\\t<td class=\"num\"><span class=\"tah p11\">66,000</span></td>\\n\\t\\t\\t\\t\\t<td class=\"num\"><span class=\"tah p11\">66,200</span></td>\\n\\t\\t\\t\\t\\t<td class=\"num\"><span class=\"tah p11\">65,700</span></td>\\n\\t\\t\\t\\t\\t<td class=\"num\"><span class=\"tah p11\">14,431,704</span></td>\\n\\t\\t\\t\\t\\t</tr>\\n\\t\\t\\t\\t\\n\\t\\t\\t\\t\\n\\t\\t\\t\\n\\t\\t\\t\\n\\t\\t\\t\\n\\t\\t\\t\\n\\t\\t\\t\\n\\t\\n\\t\\t\\n\\t\\n\\n\\t\\t\\t\\t<tr>\\n\\t\\t\\t\\t<td colspan=\"7\" height=\"8\"></td>\\n\\t\\t\\t\\t</tr>\\n\\t\\t\\t\\t</table>\\n\\t\\t\\t\\t<!--- 페이지 네비게이션 시작--->\\n\\t\\t\\t\\t<table summary=\"페이지 네비게이션 리스트\" class=\"Nnavi\" align=\"center\">\\n\\t\\t\\t\\t<caption>페이지 네비게이션</caption>\\n\\t\\t\\t\\t<tr>\\t\\t\\n\\t\\t\\t\\n\\t\\t\\t\\t<td class=\"pgLL\">\\n\\t\\t\\t\\t<a href=\"/item/sise_day.naver?code=005930&amp;page=1\"  >\\n\\t\\t\\t\\t<img src=\"https://ssl.pstatic.net/static/n/cmn/bu_pgarLL.gif\" width=\"7\" height=\"5\" alt=\"\">맨앞\\n\\t\\t\\t\\t</a>\\n\\t\\t\\t\\t</td>\\n\\n                \\n                <td>\\n\\t\\t\\t\\t<a href=\"/item/sise_day.naver?code=005930&amp;page=1\"  >1</a>\\n\\t\\t\\t\\t</td>\\n<td>\\n\\t\\t\\t\\t<a href=\"/item/sise_day.naver?code=005930&amp;page=2\"  >2</a>\\n\\t\\t\\t\\t</td>\\n<td>\\n\\t\\t\\t\\t<a href=\"/item/sise_day.naver?code=005930&amp;page=3\"  >3</a>\\n\\t\\t\\t\\t</td>\\n<td class=\"on\">\\n\\t\\t\\t\\t<a href=\"/item/sise_day.naver?code=005930&amp;page=4\"  >4</a>\\n\\t\\t\\t\\t</td>\\n<td>\\n\\t\\t\\t\\t<a href=\"/item/sise_day.naver?code=005930&amp;page=5\"  >5</a>\\n\\t\\t\\t\\t</td>\\n<td>\\n\\t\\t\\t\\t<a href=\"/item/sise_day.naver?code=005930&amp;page=6\"  >6</a>\\n\\t\\t\\t\\t</td>\\n<td>\\n\\t\\t\\t\\t<a href=\"/item/sise_day.naver?code=005930&amp;page=7\"  >7</a>\\n\\t\\t\\t\\t</td>\\n<td>\\n\\t\\t\\t\\t<a href=\"/item/sise_day.naver?code=005930&amp;page=8\"  >8</a>\\n\\t\\t\\t\\t</td>\\n<td>\\n\\t\\t\\t\\t<a href=\"/item/sise_day.naver?code=005930&amp;page=9\"  >9</a>\\n\\t\\t\\t\\t</td>\\n<td>\\n\\t\\t\\t\\t<a href=\"/item/sise_day.naver?code=005930&amp;page=10\"  >10</a>\\n\\t\\t\\t\\t</td>\\n\\n                <td class=\"pgR\">\\n\\t\\t\\t\\t<a href=\"/item/sise_day.naver?code=005930&amp;page=11\"  >\\n\\t\\t\\t\\t다음<img src=\"https://ssl.pstatic.net/static/n/cmn/bu_pgarR.gif\" width=\"3\" height=\"5\" alt=\"\" border=\"0\">\\n\\t\\t\\t\\t</a>\\n\\t\\t\\t\\t</td>\\n\\n                <td class=\"pgRR\">\\n\\t\\t\\t\\t<a href=\"/item/sise_day.naver?code=005930&amp;page=679\"  >맨뒤\\n\\t\\t\\t\\t<img src=\"https://ssl.pstatic.net/static/n/cmn/bu_pgarRR.gif\" width=\"8\" height=\"5\" alt=\"\" border=\"0\">\\n\\t\\t\\t\\t</a>\\n\\t\\t\\t\\t</td>\\n\\n            \\n\\t\\t\\t\\t</tr>\\n\\t\\t\\t\\t</table>\\n\\t\\t\\t\\t<!--- 페이지 네비게이션 끝--->\\n\\n\\n\\t<script type=\"text/javascript\" src=\"https://ssl.pstatic.net/imgstock/static.pc/20230713201205/js/jindo.min.ns.1.5.3.euckr.js\"></script>\\n\\t<script type=\"text/javascript\" src=\"https://ssl.pstatic.net/imgstock/static.pc/20230713201205/js/lcslog.js\"></script>\\n\\t<script type=\"text/javascript\">\\n        ;(function(){\\n            var eventType = \"onpageshow\" in window ? \"pageshow\" : \"load\";\\n            jindo.$Fn(function(){\\n                lcs_do();\\n            }).attach(window, eventType);\\n        })();\\n\\t</script>\\n\\n</body>\\n'"
      ]
     },
     "execution_count": 15,
     "metadata": {},
     "output_type": "execute_result"
    }
   ],
   "source": [
    "res.text"
   ]
  },
  {
   "cell_type": "code",
   "execution_count": 16,
   "id": "e6191da6-6ede-4138-bfc5-615241b4c50f",
   "metadata": {},
   "outputs": [],
   "source": [
    "soup=bs4.BeautifulSoup(res.text)"
   ]
  },
  {
   "cell_type": "code",
   "execution_count": 17,
   "id": "a14bf05e-e4da-47a3-ba4f-6c7d28472948",
   "metadata": {},
   "outputs": [],
   "source": [
    "tr_elements = soup.select(\"table.type2 > tr\")"
   ]
  },
  {
   "cell_type": "code",
   "execution_count": 18,
   "id": "ca94196b-82d4-4595-8ab0-95a3c859fd8d",
   "metadata": {},
   "outputs": [
    {
     "name": "stdout",
     "output_type": "stream",
     "text": [
      "\n",
      "날짜\n",
      "종가\n",
      "전일비\n",
      "시가\n",
      "고가\n",
      "저가\n",
      "거래량\n",
      "\n",
      "\n",
      "\n",
      "\n",
      "\n",
      "2023.06.01\n",
      "70,900\n",
      "\n",
      "\n",
      "\t\t\t\t500\n",
      "\t\t\t\t\n",
      "\n",
      "70,900\n",
      "71,600\n",
      "70,600\n",
      "14,669,296\n",
      "\n",
      "\n",
      "2023.05.31\n",
      "71,400\n",
      "\n",
      "\n",
      "\t\t\t\t900\n",
      "\t\t\t\t\n",
      "\n",
      "72,400\n",
      "72,500\n",
      "71,000\n",
      "25,666,087\n",
      "\n",
      "\n",
      "2023.05.30\n",
      "72,300\n",
      "\n",
      "\n",
      "\t\t\t\t2,000\n",
      "\t\t\t\t\n",
      "\n",
      "71,300\n",
      "72,300\n",
      "71,200\n",
      "27,476,897\n",
      "\n",
      "\n",
      "2023.05.26\n",
      "70,300\n",
      "\n",
      "\n",
      "\t\t\t\t1,500\n",
      "\t\t\t\t\n",
      "\n",
      "69,800\n",
      "70,400\n",
      "69,500\n",
      "19,549,511\n",
      "\n",
      "\n",
      "2023.05.25\n",
      "68,800\n",
      "\n",
      "\n",
      "\t\t\t\t300\n",
      "\t\t\t\t\n",
      "\n",
      "69,900\n",
      "70,000\n",
      "68,700\n",
      "14,231,160\n",
      "\n",
      "\n",
      "\n",
      "\n",
      "\n",
      "\n",
      "\n",
      "\n",
      "\n",
      "\n",
      "\n",
      "2023.05.24\n",
      "68,500\n",
      "\n",
      "\n",
      "\t\t\t\t100\n",
      "\t\t\t\t\n",
      "\n",
      "68,100\n",
      "68,700\n",
      "68,000\n",
      "8,192,896\n",
      "\n",
      "\n",
      "2023.05.23\n",
      "68,400\n",
      "\n",
      "\n",
      "\t\t\t\t100\n",
      "\t\t\t\t\n",
      "\n",
      "68,500\n",
      "68,700\n",
      "68,100\n",
      "8,561,643\n",
      "\n",
      "\n",
      "2023.05.22\n",
      "68,500\n",
      "\n",
      "\n",
      "\t\t\t\t100\n",
      "\t\t\t\t\n",
      "\n",
      "68,400\n",
      "69,000\n",
      "68,000\n",
      "14,470,308\n",
      "\n",
      "\n",
      "2023.05.19\n",
      "68,400\n",
      "\n",
      "\n",
      "\t\t\t\t2,200\n",
      "\t\t\t\t\n",
      "\n",
      "67,800\n",
      "68,400\n",
      "67,500\n",
      "20,349,345\n",
      "\n",
      "\n",
      "2023.05.18\n",
      "66,200\n",
      "\n",
      "\n",
      "\t\t\t\t1,200\n",
      "\t\t\t\t\n",
      "\n",
      "66,000\n",
      "66,200\n",
      "65,700\n",
      "14,431,704\n",
      "\n",
      "\n",
      "\n",
      "\n"
     ]
    }
   ],
   "source": [
    "for e in tr_elements:\n",
    "    print(e.text)"
   ]
  },
  {
   "cell_type": "code",
   "execution_count": 21,
   "id": "c9a201e3-00fa-4aa7-a888-98e2548809d7",
   "metadata": {},
   "outputs": [],
   "source": [
    "total_data_list = []\n",
    "for e in tr_elements:\n",
    "    td_elements = e.select(\"td\")\n",
    "    data_list = []\n",
    "    for td_e in td_elements:\n",
    "        data_list.append(td_e.text.strip())\n",
    "    total_data_list.append(data_list)"
   ]
  },
  {
   "cell_type": "code",
   "execution_count": 22,
   "id": "08eac75b-065b-45be-bcec-3bf3cbc22f0d",
   "metadata": {},
   "outputs": [
    {
     "data": {
      "text/plain": [
       "[[],\n",
       " [''],\n",
       " ['2023.06.01', '70,900', '500', '70,900', '71,600', '70,600', '14,669,296'],\n",
       " ['2023.05.31', '71,400', '900', '72,400', '72,500', '71,000', '25,666,087'],\n",
       " ['2023.05.30', '72,300', '2,000', '71,300', '72,300', '71,200', '27,476,897'],\n",
       " ['2023.05.26', '70,300', '1,500', '69,800', '70,400', '69,500', '19,549,511'],\n",
       " ['2023.05.25', '68,800', '300', '69,900', '70,000', '68,700', '14,231,160'],\n",
       " [''],\n",
       " [''],\n",
       " [''],\n",
       " ['2023.05.24', '68,500', '100', '68,100', '68,700', '68,000', '8,192,896'],\n",
       " ['2023.05.23', '68,400', '100', '68,500', '68,700', '68,100', '8,561,643'],\n",
       " ['2023.05.22', '68,500', '100', '68,400', '69,000', '68,000', '14,470,308'],\n",
       " ['2023.05.19', '68,400', '2,200', '67,800', '68,400', '67,500', '20,349,345'],\n",
       " ['2023.05.18', '66,200', '1,200', '66,000', '66,200', '65,700', '14,431,704'],\n",
       " ['']]"
      ]
     },
     "execution_count": 22,
     "metadata": {},
     "output_type": "execute_result"
    }
   ],
   "source": [
    "total_data_list"
   ]
  },
  {
   "cell_type": "code",
   "execution_count": null,
   "id": "ae647740-8309-4a07-968f-1387dfddc29b",
   "metadata": {},
   "outputs": [],
   "source": []
  }
 ],
 "metadata": {
  "kernelspec": {
   "display_name": "Python 3",
   "language": "python",
   "name": "python3"
  },
  "language_info": {
   "codemirror_mode": {
    "name": "ipython",
    "version": 3
   },
   "file_extension": ".py",
   "mimetype": "text/x-python",
   "name": "python",
   "nbconvert_exporter": "python",
   "pygments_lexer": "ipython3",
   "version": "3.10.9"
  }
 },
 "nbformat": 4,
 "nbformat_minor": 5
}
