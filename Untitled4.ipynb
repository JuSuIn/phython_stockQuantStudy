{
 "cells": [
  {
   "cell_type": "code",
   "execution_count": 1,
   "id": "7dd0d483-cee9-48e6-876d-daa6d366d841",
   "metadata": {},
   "outputs": [],
   "source": [
    "import bs4"
   ]
  },
  {
   "cell_type": "code",
   "execution_count": 20,
   "id": "e34797ed-58b8-4519-80c1-b7fd0c58b276",
   "metadata": {},
   "outputs": [],
   "source": [
    "import requests"
   ]
  },
  {
   "cell_type": "code",
   "execution_count": 21,
   "id": "61bc4adf-a707-462c-a548-d4d31e462b2c",
   "metadata": {},
   "outputs": [],
   "source": [
    "import pandas as pd"
   ]
  },
  {
   "cell_type": "code",
   "execution_count": 22,
   "id": "8b569207-0165-4681-88dc-f00331c537ce",
   "metadata": {},
   "outputs": [],
   "source": [
    "import re"
   ]
  },
  {
   "cell_type": "code",
   "execution_count": null,
   "id": "1e59d7bf-90b6-487a-b2c3-2838e52e4a09",
   "metadata": {},
   "outputs": [],
   "source": [
    "# 정규표현식\n",
    " #점프투파이썬의 정규표현식 참고"
   ]
  },
  {
   "cell_type": "code",
   "execution_count": 5,
   "id": "9d6868e2-5cc2-4405-985b-7e8a946c0d11",
   "metadata": {},
   "outputs": [],
   "source": [
    "data = \"안녕하세요. 제 이메일 주소는 jusuin5876@gmail.com 입니다.   jusuin5876@gmail.com로 보내주셔도 됩니다.\""
   ]
  },
  {
   "cell_type": "code",
   "execution_count": 6,
   "id": "430ea504-8846-4d15-86ae-e6a8d7981c9c",
   "metadata": {},
   "outputs": [
    {
     "data": {
      "text/plain": [
       "'는 jusuin58'"
      ]
     },
     "execution_count": 6,
     "metadata": {},
     "output_type": "execute_result"
    }
   ],
   "source": [
    "data[15:25]"
   ]
  },
  {
   "cell_type": "code",
   "execution_count": 7,
   "id": "dcc11d7d-7df6-4008-bdab-eff1ea6ab56b",
   "metadata": {},
   "outputs": [
    {
     "data": {
      "text/plain": [
       "<function re.search(pattern, string, flags=0)>"
      ]
     },
     "execution_count": 7,
     "metadata": {},
     "output_type": "execute_result"
    }
   ],
   "source": [
    "re.search"
   ]
  },
  {
   "cell_type": "code",
   "execution_count": null,
   "id": "34de7ed8-18bc-4be3-a0f1-4c619d9be92d",
   "metadata": {},
   "outputs": [],
   "source": [
    "\"\\w+@\\w+\\.\\w+\""
   ]
  },
  {
   "cell_type": "code",
   "execution_count": 8,
   "id": "810cbc3f-e37f-4caa-9285-e6214354f21b",
   "metadata": {},
   "outputs": [
    {
     "data": {
      "text/plain": [
       "<re.Match object; span=(17, 37), match='jusuin5876@gmail.com'>"
      ]
     },
     "execution_count": 8,
     "metadata": {},
     "output_type": "execute_result"
    }
   ],
   "source": [
    "re.search(\"\\w+@\\w+\\.\\w+\",data)"
   ]
  },
  {
   "cell_type": "code",
   "execution_count": 9,
   "id": "6dfadc28-6b2b-4ef5-9a06-371e3b66e81c",
   "metadata": {},
   "outputs": [
    {
     "data": {
      "text/plain": [
       "<re.Match object; span=(17, 37), match='jusuin5876@gmail.com'>"
      ]
     },
     "execution_count": 9,
     "metadata": {},
     "output_type": "execute_result"
    }
   ],
   "source": [
    "re.search(\"\\w+@\\w+\\.[a-zA-Z]+\",data)"
   ]
  },
  {
   "cell_type": "code",
   "execution_count": 11,
   "id": "fd556a23-4669-4184-a73d-7853c70e0560",
   "metadata": {},
   "outputs": [
    {
     "data": {
      "text/plain": [
       "'jusuin5876@gmail.com'"
      ]
     },
     "execution_count": 11,
     "metadata": {},
     "output_type": "execute_result"
    }
   ],
   "source": [
    "re.search(\"\\w+@\\w+\\.[a-zA-Z]+\",data).group()"
   ]
  },
  {
   "cell_type": "code",
   "execution_count": 12,
   "id": "cd69d241-ae31-4da6-8a16-59bd990d718e",
   "metadata": {},
   "outputs": [
    {
     "data": {
      "text/plain": [
       "['jusuin5876@gmail.com', 'jusuin5876@gmail.com']"
      ]
     },
     "execution_count": 12,
     "metadata": {},
     "output_type": "execute_result"
    }
   ],
   "source": [
    "re.findall(r\"\\w+@\\w+\\.[a-zA-Z]+\",data)"
   ]
  },
  {
   "cell_type": "code",
   "execution_count": null,
   "id": "83ca1f48-e364-46db-9f0e-9a9298c2b3c3",
   "metadata": {},
   "outputs": [],
   "source": [
    "#encparam 해결하기"
   ]
  },
  {
   "cell_type": "code",
   "execution_count": 23,
   "id": "13a69562-9702-4272-8e77-f0afc12c5043",
   "metadata": {},
   "outputs": [],
   "source": [
    "res = requests.get(\"https://navercomp.wisereport.co.kr/v2/company/c1030001.aspx?cmp_cd=005930\")"
   ]
  },
  {
   "cell_type": "code",
   "execution_count": 24,
   "id": "404e502e-27bc-4273-b290-2440048ad4be",
   "metadata": {},
   "outputs": [
    {
     "data": {
      "text/plain": [
       "True"
      ]
     },
     "execution_count": 24,
     "metadata": {},
     "output_type": "execute_result"
    }
   ],
   "source": [
    "\"encparam\" in res.text"
   ]
  },
  {
   "cell_type": "code",
   "execution_count": 28,
   "id": "8df1648a-448f-495f-bb9d-ee2f535df435",
   "metadata": {},
   "outputs": [
    {
     "data": {
      "text/plain": [
       "<re.Match object; span=(36799, 36844), match=\"encparam: 'Qld0S1lsRmNnT29PL0grSldjeXdDZz09'\\r\">"
      ]
     },
     "execution_count": 28,
     "metadata": {},
     "output_type": "execute_result"
    }
   ],
   "source": [
    "re.search(\"encparam: .*\", res.text)"
   ]
  },
  {
   "cell_type": "code",
   "execution_count": 29,
   "id": "47c507a4-31a6-4ead-a5bb-71f967d4ca1a",
   "metadata": {},
   "outputs": [
    {
     "data": {
      "text/plain": [
       "\"encparam: 'Qld0S1lsRmNnT29PL0grSldjeXdDZz09'\\r\""
      ]
     },
     "execution_count": 29,
     "metadata": {},
     "output_type": "execute_result"
    }
   ],
   "source": [
    "re.search(\"encparam: .*\", res.text).group()"
   ]
  },
  {
   "cell_type": "code",
   "execution_count": 30,
   "id": "38600c36-a331-4134-bc63-5470b83e3945",
   "metadata": {},
   "outputs": [
    {
     "data": {
      "text/plain": [
       "\"'Qld0S1lsRmNnT29PL0grSldjeXdDZz09'\\r\""
      ]
     },
     "execution_count": 30,
     "metadata": {},
     "output_type": "execute_result"
    }
   ],
   "source": [
    "re.search(\"encparam: (.*)\", res.text).group(1)"
   ]
  },
  {
   "cell_type": "code",
   "execution_count": 31,
   "id": "83d30893-0c09-473b-ba05-e0aba537be8e",
   "metadata": {},
   "outputs": [
    {
     "data": {
      "text/plain": [
       "'Qld0S1lsRmNnT29PL0grSldjeXdDZz09'"
      ]
     },
     "execution_count": 31,
     "metadata": {},
     "output_type": "execute_result"
    }
   ],
   "source": [
    "re.search(\"encparam: (.*)\", res.text).group(1).strip()[1 : -1]"
   ]
  },
  {
   "cell_type": "code",
   "execution_count": null,
   "id": "266178b2-60c9-444b-a7cc-fb8e6022d164",
   "metadata": {},
   "outputs": [],
   "source": []
  }
 ],
 "metadata": {
  "kernelspec": {
   "display_name": "Python 3",
   "language": "python",
   "name": "python3"
  },
  "language_info": {
   "codemirror_mode": {
    "name": "ipython",
    "version": 3
   },
   "file_extension": ".py",
   "mimetype": "text/x-python",
   "name": "python",
   "nbconvert_exporter": "python",
   "pygments_lexer": "ipython3",
   "version": "3.10.9"
  }
 },
 "nbformat": 4,
 "nbformat_minor": 5
}
